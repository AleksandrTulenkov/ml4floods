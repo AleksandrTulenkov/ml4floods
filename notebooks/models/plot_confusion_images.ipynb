{
 "cells": [
  {
   "cell_type": "code",
   "execution_count": 1,
   "id": "31381bb4",
   "metadata": {},
   "outputs": [],
   "source": [
    "from ml4floods.visualization.plot_utils import plot_s2_swirnirred_image, plot_s2_and_confusions, get_image_transform\n",
    "import os\n",
    "import sys \n",
    "import fsspec\n",
    "import matplotlib.pyplot as plt \n",
    "from matplotlib import colors\n",
    "from ml4floods.models.utils.metrics import convert_targets_to_v1, compute_positives\n",
    "import torch\n",
    "import rasterio.plot as rasterioplot\n",
    "import numpy as np\n",
    "os.environ['KMP_DUPLICATE_LIB_OK']='True'"
   ]
  },
  {
   "cell_type": "code",
   "execution_count": null,
   "id": "13b30891",
   "metadata": {},
   "outputs": [],
   "source": [
    "files = [f.split(\".geojson\")[0] for f in os.listdir(r'X:\\media\\disk\\databases\\WORLDFLOODS\\2_Mart\\worldfloods_extra_v2_0_NEW\\test\\floodmaps')+\n",
    "         os.listdir(r'X:\\media\\disk\\databases\\WORLDFLOODS\\2_Mart\\worldfloods_extra_v2_0_NEW\\val\\floodmaps')]\n",
    "#files = ['EMSR286_09ITUANGOSOUTH_DEL_MONIT02_v1']\n",
    "\n",
    "path_file = r'X:\\media\\disk\\databases\\WORLDFLOODS\\2_Mart\\worldfloods_extra_v2_0_NEW'\n",
    "\n",
    "fs = fsspec.filesystem(\"\")\n",
    "\n",
    "for file in files:\n",
    "    gt_file = fs.glob(path_file+rf'/*/gt/*{file}.tif')[0]\n",
    "    s2_file = gt_file.replace(\"gt\",\"S2\")\n",
    "    #image = get_image_transform(s2_file)[0]\n",
    "    s2split = s2_file.split(\"/\")\n",
    "    title = f\"{s2split[-3]}/{s2split[-1].replace('.tif','')}\"\n",
    "\n",
    "    ground_truth, transform = get_image_transform(gt_file)\n",
    "    ground_truth = torch.from_numpy(ground_truth).unsqueeze(0)\n",
    "    pred_MNDWI = get_image_transform(rf'X:\\home\\kike\\Projectes\\ml4floods\\Predictions_models\\MNDWI\\{file}.tif')[0]\n",
    "    pred_Unet = get_image_transform(rf'X:\\home\\kike\\Projectes\\ml4floods\\Predictions_models\\WFV1_unet\\{file}.tif')[0]\n",
    "    \n",
    "    pred_MNDWI = torch.from_numpy(pred_MNDWI)\n",
    "    pred_Unet = torch.from_numpy(pred_Unet)\n",
    "    positives_mndwi = compute_positives(ground_truth, pred_MNDWI).detach().numpy()\n",
    "    positives_Unet = compute_positives(ground_truth, pred_Unet).detach().numpy()\n",
    "\n",
    "    fig, ax = plt.subplots(1,3, figsize=(15,25))\n",
    "    plot_s2_swirnirred_image(s2_file, size_read = 600,ax = ax[0])\n",
    "    plot_s2_and_confusions(s2_file,positives_Unet,title = \"\", transform = transform, ax = ax[1])\n",
    "    plot_s2_and_confusions(s2_file,positives_mndwi, transform = transform, ax = ax[2])\n",
    "    plt.show()"
   ]
  }
 ],
 "metadata": {
  "kernelspec": {
   "display_name": "Python 3 (ipykernel)",
   "language": "python",
   "name": "python3"
  },
  "language_info": {
   "codemirror_mode": {
    "name": "ipython",
    "version": 3
   },
   "file_extension": ".py",
   "mimetype": "text/x-python",
   "name": "python",
   "nbconvert_exporter": "python",
   "pygments_lexer": "ipython3",
   "version": "3.8.10"
  }
 },
 "nbformat": 4,
 "nbformat_minor": 5
}
